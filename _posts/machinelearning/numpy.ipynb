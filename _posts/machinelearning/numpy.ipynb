{
 "nbformat": 4,
 "nbformat_minor": 2,
 "metadata": {
  "language_info": {
   "name": "python",
   "codemirror_mode": {
    "name": "ipython",
    "version": 3
   },
   "version": "3.7.3-final"
  },
  "orig_nbformat": 2,
  "file_extension": ".py",
  "mimetype": "text/x-python",
  "name": "python",
  "npconvert_exporter": "python",
  "pygments_lexer": "ipython3",
  "version": 3,
  "kernelspec": {
   "name": "python37364bitsoftwarevirtualenvc111ffd064454e9fafc15e1bfc187713",
   "display_name": "Python 3.7.3 64-bit ('SoftWare': virtualenv)"
  }
 },
 "cells": [
  {
   "cell_type": "markdown",
   "metadata": {},
   "source": [
    "# python Numpy、Pandas 基础语法学习"
   ]
  },
  {
   "cell_type": "markdown",
   "metadata": {},
   "source": [
    "## 1. Numpy"
   ]
  },
  {
   "cell_type": "code",
   "execution_count": 2,
   "metadata": {},
   "outputs": [
    {
     "data": {
      "text/plain": "range"
     },
     "execution_count": 2,
     "metadata": {},
     "output_type": "execute_result"
    }
   ],
   "source": [
    "import numpy as np\n",
    "\n"
   ]
  },
  {
   "cell_type": "markdown",
   "metadata": {},
   "source": [
    "- 创建numpy数组"
   ]
  },
  {
   "cell_type": "code",
   "execution_count": 176,
   "metadata": {},
   "outputs": [
    {
     "data": {
      "text/plain": "[0, 1, 1, 2]"
     },
     "execution_count": 176,
     "metadata": {},
     "output_type": "execute_result"
    }
   ],
   "source": [
    "nparray=np.array([[1,2,3],[4,5,6],[7,8,9],[10,11,12]])\n",
    "#访问nparray的维度\n",
    "nparray.shape\n",
    "#访问nparray的类型\n",
    "type(nparray)\n",
    "#索引数据\n",
    "nparray[0][1]"
   ]
  },
  {
   "cell_type": "markdown",
   "metadata": {},
   "source": [
    "- numpy 填充0矩阵、1矩阵、填充操作、对角矩阵、随机数矩阵"
   ]
  },
  {
   "cell_type": "code",
   "execution_count": 169,
   "metadata": {},
   "outputs": [
    {
     "data": {
      "text/plain": "[0, 1, 1, 2]"
     },
     "execution_count": 169,
     "metadata": {},
     "output_type": "execute_result"
    }
   ],
   "source": [
    "#填充数据，床架矩阵后使用数据填充\n",
    "fullarray= np.full((3,4),7)\n",
    "#创建0矩阵\n",
    "zeroarray= np.zeros((3,4))\n",
    "#以1填充矩阵\n",
    "onearray=np.ones((3,4),np.int16)\n",
    "#创建单位矩阵\n",
    "identifyMatrix=np.eye(3,dtype=np.int16)\n",
    "#随机数矩阵\n",
    "randomMatrix=np.random.random((2,3))\n",
    "randomMatrix\n",
    "\n",
    "\n"
   ]
  },
  {
   "cell_type": "markdown",
   "metadata": {},
   "source": [
    "- 矩阵索引\n"
   ]
  },
  {
   "cell_type": "code",
   "execution_count": 167,
   "metadata": {},
   "outputs": [
    {
     "name": "stdout",
     "output_type": "stream",
     "text": "(4,)\n"
    },
    {
     "data": {
      "text/plain": "[0, 1, 1, 2]"
     },
     "execution_count": 167,
     "metadata": {},
     "output_type": "execute_result"
    }
   ],
   "source": [
    "#切片索引\n",
    "sliceMatrix1= nparray[0:1,0:1]\n",
    "sliceMatrix2=nparray[:,0:2]\n",
    "#数值索引和切片索引混合使用\n",
    "#数组在只有一维的情况下，只会使用一个数，表示数据的个数\n",
    "mixMatrix=nparray[:,1]\n",
    "print(mixMatrix.shape)\n",
    "mixMatrix\n",
    "#使用数组来索引数据,数组是数值索引集合,数值行索引集合和列索引集合组合，然后形成数值索引对\n",
    "indexArray=np.array([0,2,0,0])\n",
    "rangeindex= [0,1,1,2]\n",
    "arrayMatrix= nparray[rangeindex,indexArray]\n",
    "#布尔索引\n",
    "booleanindex=nparray>7\n",
    "booleanmatrix=nparray[booleanindex]\n",
    "booleanmatrix\n",
    "\n",
    "\n"
   ]
  },
  {
   "cell_type": "code",
   "execution_count": null,
   "metadata": {},
   "outputs": [],
   "source": [
    "- numpy 加减乘除 求和 转置\n"
   ]
  },
  {
   "cell_type": "code",
   "execution_count": 161,
   "metadata": {},
   "outputs": [
    {
     "data": {
      "text/plain": "[0, 1, 1, 2]"
     },
     "execution_count": 161,
     "metadata": {},
     "output_type": "execute_result"
    }
   ],
   "source": [
    "matrixA=np.array([[1,2],[3,4]])\n",
    "#矩阵元素之间加\n",
    "eleplus=matrixA+matrixA\n",
    "#矩阵元素之间减\n",
    "eleminus=matrixA-matrixA\n",
    "#矩阵元素之间乘\n",
    "elemulti=matrixA*matrixA\n",
    "elemuldivsion=matrixA/matrixA\n",
    "#内积\n",
    "dotMatrix= matrixA.dot(matrixA)\n",
    "dotMatrix=np.dot(matrixA,matrixA)\n",
    "# 每个元素相加\n",
    "elesum= matrixA.sum()\n",
    "#列相加\n",
    "colsum= matrixA.sum(axis=0)\n",
    "#行相加\n",
    "rowsum=matrixA.sum(axis=1)\n",
    "colsum\n",
    "#转置\n",
    "tmatrix=matrixA.T\n",
    "tmatrix\n"
   ]
  },
  {
   "cell_type": "markdown",
   "metadata": {},
   "source": [
    "- 矩阵广播"
   ]
  },
  {
   "cell_type": "markdown",
   "metadata": {},
   "source": [
    "2. Pandas"
   ]
  },
  {
   "cell_type": "code",
   "execution_count": 6,
   "metadata": {},
   "outputs": [
    {
     "data": {
      "text/plain": "range"
     },
     "execution_count": 6,
     "metadata": {},
     "output_type": "execute_result"
    }
   ],
   "source": [
    "import numpy as np\n",
    "import pandas as pd"
   ]
  },
  {
   "cell_type": "code",
   "execution_count": null,
   "metadata": {},
   "outputs": [],
   "source": [
    "- 创建、初始化"
   ]
  },
  {
   "cell_type": "code",
   "execution_count": 27,
   "metadata": {},
   "outputs": [
    {
     "data": {
      "text/html": "<div>\n<style scoped>\n    .dataframe tbody tr th:only-of-type {\n        vertical-align: middle;\n    }\n\n    .dataframe tbody tr th {\n        vertical-align: top;\n    }\n\n    .dataframe thead th {\n        text-align: right;\n    }\n</style>\n<table border=\"1\" class=\"dataframe\">\n  <thead>\n    <tr style=\"text-align: right;\">\n      <th></th>\n      <th>a</th>\n      <th>b</th>\n      <th>c</th>\n      <th>e</th>\n    </tr>\n  </thead>\n  <tbody>\n    <tr>\n      <th>5</th>\n      <td>6</td>\n      <td>nihao</td>\n      <td>1</td>\n      <td>train</td>\n    </tr>\n    <tr>\n      <th>4</th>\n      <td>5</td>\n      <td>nihao</td>\n      <td>1</td>\n      <td>train</td>\n    </tr>\n    <tr>\n      <th>3</th>\n      <td>4</td>\n      <td>nihao</td>\n      <td>1</td>\n      <td>train</td>\n    </tr>\n    <tr>\n      <th>1</th>\n      <td>2</td>\n      <td>nihao</td>\n      <td>1</td>\n      <td>train</td>\n    </tr>\n    <tr>\n      <th>2</th>\n      <td>3</td>\n      <td>nihao</td>\n      <td>1</td>\n      <td>test</td>\n    </tr>\n    <tr>\n      <th>0</th>\n      <td>1</td>\n      <td>nihao</td>\n      <td>1</td>\n      <td>test</td>\n    </tr>\n  </tbody>\n</table>\n</div>",
      "text/plain": "   a      b  c      e\n5  6  nihao  1  train\n4  5  nihao  1  train\n3  4  nihao  1  train\n1  2  nihao  1  train\n2  3  nihao  1   test\n0  1  nihao  1   test"
     },
     "execution_count": 27,
     "metadata": {},
     "output_type": "execute_result"
    }
   ],
   "source": [
    "#创建列\n",
    "series= pd.Series([1,2,3,4,np.nan])\n",
    "date_range= pd.date_range(\"20180101\",periods=6)\n",
    "#创建索引 行索引和列索引\n",
    "df=pd.DataFrame(np.random.randn(6,4),index=date_range,columns=list('ABCD'))\n",
    "nparray= np.array([3] * 4, dtype='int32')\n",
    "#可以通过字典去创建dataframe\n",
    "dicframe= pd.DataFrame({\n",
    "     'a':[1,2,3,4,5,6],\n",
    "     'b':'nihao',\n",
    "     'c':pd.Series(1,index=range(6)),\n",
    "     'e': pd.Categorical([\"test\", \"train\", \"test\", \"train\",\"train\",\"train\"])\n",
    " })\n",
    "#查看数据\n",
    "dicframe.head(1)\n",
    "dicframe.tail(2)\n",
    "#查看索引\n",
    "dicframe.index\n",
    "#查看列标签\n",
    "dicframe.columns\n",
    "#describe 生成数据的简短描述信息\n",
    "dicframe.describe()\n",
    "#index排序，0表示列(index)，1表示行(行标签))\n",
    "dicframe.sort_index(axis=1,ascending=False)\n",
    "#值排序\n",
    "dicframe.sort_values(by='e',ascending=False)"
   ]
  },
  {
   "cell_type": "markdown",
   "metadata": {},
   "source": [
    "- 访问数据"
   ]
  },
  {
   "cell_type": "code",
   "execution_count": 42,
   "metadata": {},
   "outputs": [
    {
     "data": {
      "text/html": "<div>\n<style scoped>\n    .dataframe tbody tr th:only-of-type {\n        vertical-align: middle;\n    }\n\n    .dataframe tbody tr th {\n        vertical-align: top;\n    }\n\n    .dataframe thead th {\n        text-align: right;\n    }\n</style>\n<table border=\"1\" class=\"dataframe\">\n  <thead>\n    <tr style=\"text-align: right;\">\n      <th></th>\n      <th>a</th>\n      <th>b</th>\n    </tr>\n  </thead>\n  <tbody>\n    <tr>\n      <th>0</th>\n      <td>1</td>\n      <td>nihao</td>\n    </tr>\n    <tr>\n      <th>1</th>\n      <td>2</td>\n      <td>nihao</td>\n    </tr>\n  </tbody>\n</table>\n</div>",
      "text/plain": "   a      b\n0  1  nihao\n1  2  nihao"
     },
     "execution_count": 42,
     "metadata": {},
     "output_type": "execute_result"
    }
   ],
   "source": [
    "#通过列标签访问\n",
    "dicframe['a']\n",
    "#通过切片访问行\n",
    "dicframe[:3]\n",
    "#使用loc 选择读取数据【标签】,loc中行切片，是包含end值\n",
    "dicframe.loc[0:1,['a','b']]\n",
    "#使用iloc 选择读取数据【列是数值索引】，行切片不包含end值\n",
    "#dicframe.iloc[0:1,0:2]"
   ]
  },
  {
   "cell_type": "markdown",
   "metadata": {},
   "source": [
    "- 缺失值"
   ]
  },
  {
   "cell_type": "code",
   "execution_count": 61,
   "metadata": {},
   "outputs": [
    {
     "data": {
      "text/plain": "0    3\n1    3\n2    6\ndtype: int64"
     },
     "execution_count": 61,
     "metadata": {},
     "output_type": "execute_result"
    }
   ],
   "source": [
    "#reindex 会改变Index,返回原数据的副本\n",
    "reindexframe= dicframe.reindex(index=range(8),columns=list(dicframe.columns)+['e'])\n",
    "#删除nan值\n",
    "dropframe= reindexframe.dropna(how='any')\n",
    "\n",
    "#使用值填充NaN值（catelogry中填充的数据必须为列中已有数据）\n",
    "reindexframe.iloc[:,2].fillna(value=1)\n",
    "#判断是否为缺失值\n",
    "pd.isna(reindexframe)\n",
    "valueframe=pd.DataFrame({'a':[1,2,3],'b':[4,5,9]})\n",
    "\n"
   ]
  },
  {
   "cell_type": "markdown",
   "metadata": {},
   "source": [
    "- 操作"
   ]
  },
  {
   "cell_type": "code",
   "execution_count": 63,
   "metadata": {},
   "outputs": [
    {
     "data": {
      "text/plain": "3    1\n2    1\n1    1\nName: a, dtype: int64"
     },
     "execution_count": 63,
     "metadata": {},
     "output_type": "execute_result"
    }
   ],
   "source": [
    "#apply ，对每一个series进行操作\n",
    "valueframe.apply(np.cumsum)\n",
    "valueframe.apply(lambda x:x.max()-x.min(),axis=1)\n",
    "#直方图统计,对series进行频率统计\n",
    "valueframe['a'].value_counts()\n"
   ]
  },
  {
   "cell_type": "markdown",
   "metadata": {},
   "source": [
    "- Merge"
   ]
  },
  {
   "cell_type": "code",
   "execution_count": 72,
   "metadata": {},
   "outputs": [
    {
     "data": {
      "text/plain": "0  key      a\n   value    1\n1  key      b\n   value    2\n2  key      c\n   value    3\n3  key      a\n   value    4\ndtype: object"
     },
     "execution_count": 72,
     "metadata": {},
     "output_type": "execute_result"
    }
   ],
   "source": [
    "#concact 矩阵拼接\n",
    "frame1=pd.DataFrame(np.random.randn(3,4))\n",
    "frame2=pd.DataFrame(np.random.randn(3,4))\n",
    "concactframe=pd.concat([frame1,frame2])\n",
    "concactframe\n",
    "#join  \n",
    "left=pd.DataFrame({'key':['a','b','c','a'],'value':[1,2,3,4]})\n",
    "right=pd.DataFrame({'key':['a','b','c'],'value':[3,2,1]})\n",
    "pd.merge(left,right,on=\"key\")\n",
    "#group\n",
    "left.groupby('key')\n",
    "# stack\n",
    "left.stack()"
   ]
  }
 ]
}